{
 "cells": [
  {
   "cell_type": "code",
   "execution_count": 54,
   "id": "8ec1ef82",
   "metadata": {},
   "outputs": [],
   "source": [
    "import jax\n",
    "import jax.numpy as jnp\n",
    "import jax.random as random\n",
    "from jax import grad, vmap"
   ]
  },
  {
   "cell_type": "code",
   "execution_count": 45,
   "id": "9d0e6f26",
   "metadata": {},
   "outputs": [],
   "source": [
    "batch_size = 32\n",
    "n_train = 5000\n",
    "n_valid = 1000"
   ]
  },
  {
   "cell_type": "code",
   "execution_count": 46,
   "id": "74763777",
   "metadata": {},
   "outputs": [],
   "source": [
    "# First define a basic neural net\n",
    "def relu_layer(params, x):\n",
    "    pre_act = jnp.dot(params[0], x) + params[1]\n",
    "    return jnp.maximum(0, pre_act)\n",
    "\n",
    "def forward_pass(params, in_array):\n",
    "    x = in_array\n",
    "    \n",
    "    for w, b in params[:-1]:\n",
    "        x = relu_layer([w, b], x)\n",
    "    \n",
    "    final_w, final_b = params[-1]\n",
    "    return jnp.dot(final_w, x) + final_b\n",
    "\n",
    "batch_forward_pass = vmap(forward_pass, in_axes=(None, 0), out_axes=0)"
   ]
  },
  {
   "cell_type": "code",
   "execution_count": 81,
   "id": "8a7ea539",
   "metadata": {},
   "outputs": [],
   "source": [
    "# Make some synthetic data\n",
    "def make_data(rng_key, n_rows):\n",
    "    \n",
    "    rng_key, subkey = random.split(rng_key)\n",
    "    x_1 = random.normal(key=subkey, shape=(n_rows, 1))\n",
    "    rng_key, subkey = random.split(rng_key)\n",
    "    x_2 = random.uniform(key=subkey, shape=(n_rows, 1), minval=-0.5, maxval=+0.5)\n",
    "    \n",
    "    y_expected = 0.5*x_1 + jnp.cos(x_2)\n",
    "    \n",
    "    rng_key, subkey = random.split(rng_key)\n",
    "    eps = 0.1*random.normal(key=subkey)\n",
    "    y = y_expected + eps\n",
    "    \n",
    "    x_features = jnp.hstack([x_1, x_2])\n",
    "    \n",
    "    return (x_features, y)"
   ]
  },
  {
   "cell_type": "code",
   "execution_count": 84,
   "id": "7babec7b",
   "metadata": {},
   "outputs": [],
   "source": [
    "key = jax.random.PRNGKey(123)\n",
    "train_key, valid_key = random.split(key)\n",
    "training_data = make_data(train_key, n_train)\n",
    "validation_data = make_data(valid_key, n_valid)"
   ]
  },
  {
   "cell_type": "code",
   "execution_count": null,
   "id": "4b7b74b2",
   "metadata": {},
   "outputs": [],
   "source": []
  }
 ],
 "metadata": {
  "kernelspec": {
   "display_name": "Python 3",
   "language": "python",
   "name": "python3"
  },
  "language_info": {
   "codemirror_mode": {
    "name": "ipython",
    "version": 3
   },
   "file_extension": ".py",
   "mimetype": "text/x-python",
   "name": "python",
   "nbconvert_exporter": "python",
   "pygments_lexer": "ipython3",
   "version": "3.8.10"
  }
 },
 "nbformat": 4,
 "nbformat_minor": 5
}
